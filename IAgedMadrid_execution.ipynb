{
 "cells": [
  {
   "cell_type": "code",
   "execution_count": null,
   "id": "ae249643",
   "metadata": {},
   "outputs": [],
   "source": [
    "import json\n",
    "from virtual_agents import *\n",
    "from utils import *\n",
    "from openai import OpenAI"
   ]
  },
  {
   "cell_type": "code",
   "execution_count": null,
   "id": "c5313d95",
   "metadata": {},
   "outputs": [],
   "source": [
    "client = OpenAI(api_key=\"\")"
   ]
  },
  {
   "cell_type": "code",
   "execution_count": null,
   "id": "1e6cf01e",
   "metadata": {},
   "outputs": [],
   "source": [
    "agents_prompt1 = describe_agents(research_team)\n",
    "meeting_types = [\"individual_meeting\", \"group_meeting\", \"working_session\", \"draft_writing_session\", \"peer_review_process\"]\n",
    "hypothesis = \"to evaluate whether GV is an independent predictor of all-cause mortality in patients aged 75 years or older with and without COVID-19 who were followed during the first year of the COVID-19 pandemic and its lockdown importancia using statistical methods\"\n",
    "global_project_agenda  = f'You are working on a research project {hypothesis}.' + agents_prompt1"
   ]
  },
  {
   "cell_type": "code",
   "execution_count": null,
   "id": "43eaddde",
   "metadata": {},
   "outputs": [],
   "source": [
    "# database connection\n",
    "host=''\n",
    "user=''\n",
    "passwd=''\n",
    "database_name=''\n",
    "excluded_vars = 'if there are variables to exclude to avoid IA model confussion'\n",
    "folder_path = ''\n",
    "\n",
    "db_dict_path = os.path.join(folder_path, \"AgedMadrid_dictdb.txt\")\n",
    "aged_madrid_dictdb = make_dictdb(host, user, passwd, database_name, db_dict_path, excluded_vars)"
   ]
  },
  {
   "cell_type": "code",
   "execution_count": null,
   "id": "8ffd5865",
   "metadata": {},
   "outputs": [],
   "source": [
    "agent_to_assistant = {\n",
    "            agent.title: client.beta.assistants.create(\n",
    "            name=agent.title,\n",
    "            instructions=agent.prompt,\n",
    "            model=agent.model,\n",
    "            temperature=0,\n",
    "        )\n",
    "        for agent in agents}"
   ]
  },
  {
   "cell_type": "code",
   "execution_count": null,
   "id": "f016a0ab",
   "metadata": {},
   "outputs": [],
   "source": [
    "print(agent_to_assistant)"
   ]
  },
  {
   "cell_type": "code",
   "execution_count": null,
   "id": "cee494d5",
   "metadata": {},
   "outputs": [],
   "source": [
    "def show_json(obj):\n",
    "    display(json.loads(obj.model_dump_json()))"
   ]
  },
  {
   "cell_type": "code",
   "execution_count": null,
   "id": "2f4f1800",
   "metadata": {},
   "outputs": [],
   "source": [
    "show_json(agent_to_assistant[coordinator.title])"
   ]
  },
  {
   "cell_type": "markdown",
   "id": "69101db9",
   "metadata": {},
   "source": [
    "## Discussion 1: Workflow design"
   ]
  },
  {
   "cell_type": "code",
   "execution_count": null,
   "id": "6342cc96",
   "metadata": {},
   "outputs": [],
   "source": [
    "interventors_d1 = {key.title: agent_to_assistant[key.title] for key in [coordinator]}\n",
    "print(interventors_d1)"
   ]
  },
  {
   "cell_type": "code",
   "execution_count": null,
   "id": "5ed7d749",
   "metadata": {},
   "outputs": [],
   "source": [
    "prompt_discussion_1 = Discussion(\n",
    "    title = \"d1: Workflow design\",\n",
    "    type = \"individual meeting\",\n",
    "    goal = \"define a provisional workflow to pursue the aim of the project\",\n",
    "    moderator = coordinator,\n",
    "    contributors = interventors_d1, #aquí (y en individual meetings en general, quizas es más interesante meter directamente el prompt del agente) #recuerda que en este primer prompt se describe al equipo también para asignar las tareas del workflow\n",
    "    materials = (\"electronic health records from 500,000 adults aged over 75 in Madrid. This database originates from a retrospective longitudinal study, covering medical variables recorded during the periods 2015–2019 and 2020–2022.\", aged_madrid_dictdb),\n",
    "    agenda = global_project_agenda,\n",
    "    request = \" outline a provisional workflow to address the hypothesis defined as the project objective. The steps should be ordered and each one assigned to the agent best suited to carry it out. You should return just the provisional workflow, without introductory or closing phrases and please respond in a direct manner without emoticons. Only use a list if necessary, and if so, use a simple list.\",\n",
    "    deliverable = \"provisional workflow\")"
   ]
  },
  {
   "cell_type": "code",
   "execution_count": null,
   "id": "f28a5887",
   "metadata": {},
   "outputs": [],
   "source": [
    "print(prompt_discussion_1.prompt)"
   ]
  },
  {
   "cell_type": "code",
   "execution_count": null,
   "id": "f985694c",
   "metadata": {},
   "outputs": [],
   "source": [
    "workflow, log1, thread1 = run_discussion(client, prompt_discussion_1, coordinator, interventors_d1)"
   ]
  },
  {
   "cell_type": "code",
   "execution_count": null,
   "id": "3c7322b0",
   "metadata": {},
   "outputs": [],
   "source": [
    "provisional_workflow = \"This is the provisional workflow outlined by Primary Healthcare Professional & Coordinator to address the main objective of the project:\\n\\n\" + workflow"
   ]
  },
  {
   "cell_type": "code",
   "execution_count": null,
   "id": "c3c3d833",
   "metadata": {},
   "outputs": [],
   "source": [
    "print(provisional_workflow)"
   ]
  },
  {
   "cell_type": "markdown",
   "id": "4285caaa",
   "metadata": {},
   "source": [
    "## Discussion 2: Workflow refination"
   ]
  },
  {
   "cell_type": "code",
   "execution_count": null,
   "id": "c461fed3",
   "metadata": {},
   "outputs": [],
   "source": [
    "participants_d2 = {key.title: agent_to_assistant[key.title] for key in [*research_team, scientific_critic, coordinator]}\n",
    "print(participants_d2)"
   ]
  },
  {
   "cell_type": "code",
   "execution_count": null,
   "id": "576702f8",
   "metadata": {},
   "outputs": [],
   "source": [
    "prompt_discussion_2 = Discussion(\n",
    "    title = \"Workflow refination\",\n",
    "    moderator = coordinator,\n",
    "    type = \"group meeting\",\n",
    "    goal = \"outline a final workflow to address the hypothesis defined as the project objective.\",\n",
    "    contributors = research_team, #aquí (y en individual meetings en general, quizas es más interesante meter directamente el prompt del agente) #recuerda que en este primer prompt se describe al equipo también para asignar las tareas del workflow\n",
    "    scheme = (2, participants_d2),\n",
    "    materials = (\"electronic health records from 500,000 adults aged over 75 in Madrid. This database originates from a retrospective longitudinal study, covering medical variables recorded during the periods 2015–2019 and 2020–2022.\", aged_madrid_dictdb),\n",
    "    agenda = global_project_agenda + provisional_workflow,\n",
    "    request  = \" provide your initial thoughts on the agenda, pose follow-up questions to gather additional information and feedback on how to better address the agenda as well as any questions you may have to guide the team discussion.\",\n",
    "    participants_request=\"thoughts on the discussion\",\n",
    "    final_request = \"outline the final_workflow, integrating the group’s insights to address the hypothesis defined as the project objective. The steps should be ordered and each one assigned to the agent best suited to carry it out\",\n",
    "    deliverable = \"final workflow\")"
   ]
  },
  {
   "cell_type": "code",
   "execution_count": null,
   "id": "86433b3c",
   "metadata": {},
   "outputs": [],
   "source": [
    "print(prompt_discussion_2.prompt)"
   ]
  },
  {
   "cell_type": "code",
   "execution_count": null,
   "id": "4ebd66c5",
   "metadata": {},
   "outputs": [],
   "source": [
    "final_workflow, log2, thread2 = run_discussion(client, prompt_discussion_2, coordinator, participants_d2)"
   ]
  },
  {
   "cell_type": "code",
   "execution_count": null,
   "id": "4477c5d9",
   "metadata": {},
   "outputs": [],
   "source": [
    "print(final_workflow)"
   ]
  },
  {
   "cell_type": "code",
   "execution_count": null,
   "id": "2a17fb83",
   "metadata": {},
   "outputs": [],
   "source": [
    "definitive_workflow = \"This is the final workflow outlined by Primary Healthcare Professional & Coordinator, including group's insights to address the main objective of the project:\\n\\n\" + final_workflow"
   ]
  },
  {
   "cell_type": "markdown",
   "id": "2e6aa88a",
   "metadata": {},
   "source": [
    "## Discussion 3: Define a methodology"
   ]
  },
  {
   "cell_type": "code",
   "execution_count": null,
   "id": "070c16a2",
   "metadata": {},
   "outputs": [],
   "source": [
    "developers = [epidemiologist, clinical_data_scientist]\n",
    "participants_d3 = {key.title: agent_to_assistant[key.title] for key in [*developers, coordinator]}\n",
    "print(participants_d3)"
   ]
  },
  {
   "cell_type": "code",
   "execution_count": null,
   "id": "0904b9a3",
   "metadata": {},
   "outputs": [],
   "source": [
    "prompt_discussion_3 = Discussion(\n",
    "    title = \"Procedure, methodology and model selection\",\n",
    "    moderator = coordinator,\n",
    "    type = \"group meeting\",\n",
    "    goal = \"define a clear following procedure, methodology - including since variables selection, data preprocessing of raw data to the selection of models - and tools necessary to obtain the results\",\n",
    "    contributors = developers,\n",
    "    scheme = (2, participants_d3), #aquí (y en individual meetings en general, quizas es más interesante meter directamente el prompt del agente) #recuerda que en este primer prompt se describe al equipo también para asignar las tareas del workflow\n",
    "    materials = (\"electronic health records from 500,000 adults aged over 75 in Madrid. This database originates from a retrospective longitudinal study, covering medical variables recorded during the periods 2015–2019 and 2020–2022.\", aged_madrid_dictdb),\n",
    "    agenda = global_project_agenda + \"\\n\" + definitive_workflow,\n",
    "    final_request = \"please, based on the discussion so far, synthesize the key points regarding methodology, variable selection, data preprocessing, and model considerations\",\n",
    "    deliverable = \"agreed-upon methodology, operational details, and variable selections\",\n",
    "    participants_request = \"thoughts on the discussion\",\n",
    "    request = f\"{coordinator.title} convene the meeting and outline the clinical priorities and expectations from the methodology discussion\")"
   ]
  },
  {
   "cell_type": "code",
   "execution_count": null,
   "id": "b30e549e",
   "metadata": {},
   "outputs": [],
   "source": [
    "print(prompt_discussion_3.prompt)"
   ]
  },
  {
   "cell_type": "code",
   "execution_count": null,
   "id": "8f17a95d",
   "metadata": {},
   "outputs": [],
   "source": [
    "methodology, log3, thread3 = run_discussion(client, prompt_discussion_3, coordinator, participants_d3)"
   ]
  },
  {
   "cell_type": "code",
   "execution_count": null,
   "id": "55183409",
   "metadata": {},
   "outputs": [],
   "source": [
    "print(methodology)"
   ]
  },
  {
   "cell_type": "code",
   "execution_count": null,
   "id": "7e58d520",
   "metadata": {},
   "outputs": [],
   "source": [
    "methodology_intro = \"This is the methodology defined in the last meeting:\\n\" + methodology "
   ]
  },
  {
   "cell_type": "markdown",
   "id": "54fcbc9c",
   "metadata": {},
   "source": [
    "## Discussion 4: Working Session "
   ]
  },
  {
   "cell_type": "markdown",
   "id": "9ac9c0c3",
   "metadata": {},
   "source": [
    "#### 4a. Split the pipeline into tasks or scripts, each assigned to a responsible agent"
   ]
  },
  {
   "cell_type": "code",
   "execution_count": null,
   "id": "4afdd654",
   "metadata": {},
   "outputs": [],
   "source": [
    "developers = [epidemiologist, clinical_data_scientist]\n",
    "participants_d4a = {key.title: agent_to_assistant[key.title] for key in developers}\n",
    "print(participants_d4a)"
   ]
  },
  {
   "cell_type": "code",
   "execution_count": null,
   "id": "3cb76575",
   "metadata": {},
   "outputs": [],
   "source": [
    "prompt_discussion_4a = Discussion(\n",
    "    title = \"Code development\",\n",
    "    moderator = epidemiologist,\n",
    "    type = \"working session\",\n",
    "    goal = \"design a clear, script-based analysis pipeline, starting from raw EHR data and ending with the results of statistical models, purposing ready-to-run scripts that compute the results of your study\",\n",
    "    deliverable=\"list of scripts names with python or R extension - according to the programming language choosen for each script- hat will be developed\",\n",
    "    contributors = developers,\n",
    "    scheme = (2, participants_d4a), #aquí (y en individual meetings en general, quizas es más interesante meter directamente el prompt del agente) #recuerda que en este primer prompt se describe al equipo también para asignar las tareas del workflow\n",
    "    materials = (\"electronic health records from 500,000 adults aged over 75 in Madrid. This database originates from a retrospective longitudinal study, covering medical variables recorded during the periods 2015–2019 and 2020–2022.\\nCSV files have been generated for each table from the database. Please consider using these files instead of connecting directly to the MySQL database\", aged_madrid_dictdb),\n",
    "    agenda = global_project_agenda + methodology_intro,\n",
    "    participants_request= \"discussion on how to break down and distribute the initial workflow for building the script pipeline, the programming language to use and how to assign responsibilities. Note that each script must be assigned to a single author (either the Epidemiologist & biostatician or the Clinical Data Scientist) and cannot be developed collaboratively\",\n",
    "    final_request= \"return the list of python or R scripts names in order of execution that will be developed to let user obtain the results to achieve the objective just executing the codes on the raw data from the database. You should return a list of python tuples containing the values (script name, responsible agent).Keep in mind that each script must have exactly one responsible author, chosen exclusively from the Epidemiologist & biostatician or the Clinical Data Scientist. No collaborative or multiple authorship is allowed.\",\n",
    "    request  =  (\n",
    "    f\" convene the collaborative working session. \"\n",
    "    f\"Keep in mind the objective: make decisions about the steps to follow, the script files to produce, and who will handle each part. Note that each script must be assigned to a single author (either the Epidemiologist & biostatician or the Clinical Data Scientist) and cannot be developed collaboratively.\"\n",
    "    )\n",
    ")"
   ]
  },
  {
   "cell_type": "code",
   "execution_count": null,
   "id": "ce8f87d2",
   "metadata": {},
   "outputs": [],
   "source": [
    "print(prompt_discussion_4a.prompt)"
   ]
  },
  {
   "cell_type": "code",
   "execution_count": null,
   "id": "c0447062",
   "metadata": {},
   "outputs": [],
   "source": [
    "scripts_list, log4a, thread4 = run_discussion(client, prompt_discussion_4a, epidemiologist, participants_d4a)"
   ]
  },
  {
   "cell_type": "code",
   "execution_count": null,
   "id": "3e76e495",
   "metadata": {},
   "outputs": [],
   "source": [
    "print(scripts_list)\n",
    "import ast\n",
    "import re\n",
    "clean_text = scripts_list.replace(\"```\", \"\").replace(\"python\", \"\").strip().rstrip(\";\")\n",
    "script_list = ast.literal_eval(clean_text)\n",
    "print(script_list)\n"
   ]
  },
  {
   "cell_type": "code",
   "execution_count": null,
   "id": "53f99b29",
   "metadata": {},
   "outputs": [],
   "source": [
    "print(thread4)"
   ]
  },
  {
   "cell_type": "markdown",
   "id": "fa975734",
   "metadata": {},
   "source": [
    "#### 4b. Formulate questions to the experts to solve doubts raised in variable selection"
   ]
  },
  {
   "cell_type": "code",
   "execution_count": null,
   "id": "c57d7fc4",
   "metadata": {},
   "outputs": [],
   "source": [
    "participants_d4b = {key.title: agent_to_assistant[key.title] for key in [epidemiologist, pharmacology_specialist, endocrinologist]}"
   ]
  },
  {
   "cell_type": "code",
   "execution_count": null,
   "id": "1e461647",
   "metadata": {},
   "outputs": [],
   "source": [
    "prompt_discussion_4b = Discussion(\n",
    "    title = \"Code development 2\",\n",
    "    moderator = epidemiologist,\n",
    "    type = \"working session\",\n",
    "    goal = \"solve questions of variables metrics and develop the scripts to obtain the results\",\n",
    "    deliverable=\"a summary of decisions regarding variable metrics, which variables to prioritize, and other relevant insights to consider before starting the code development phase\",\n",
    "    contributors = research_team, \n",
    "    scheme = (1,participants_d4b), #aquí (y en individual meetings en general, quizas es más interesante meter directamente el prompt del agente) #recuerda que en este primer prompt se describe al equipo también para asignar las tareas del workflow\n",
    "    participants_request= f\"solve the questions asked by the {epidemiologist.title} to complete de code development\",\n",
    "    final_request= \"return a summary of the decissions maked regarding variable metrics, which variables to prioritize, and other relevant insights to consider before starting the code development phase. \",\n",
    "    request  = f\", formulate the necessary questions based on the doubts raised in the meeting in order to achieve the objective\"\n",
    ")"
   ]
  },
  {
   "cell_type": "code",
   "execution_count": null,
   "id": "02c96b94",
   "metadata": {},
   "outputs": [],
   "source": [
    "print(prompt_discussion_4b.prompt)"
   ]
  },
  {
   "cell_type": "code",
   "execution_count": null,
   "id": "f8e4738b",
   "metadata": {},
   "outputs": [],
   "source": [
    "solved_questions, log4b, thread4b = run_discussion(client, prompt_discussion_4b, epidemiologist, participants_d4b, thread_id=thread4)"
   ]
  },
  {
   "cell_type": "code",
   "execution_count": null,
   "id": "b4677caa",
   "metadata": {},
   "outputs": [],
   "source": [
    "print(solved_questions)"
   ]
  },
  {
   "cell_type": "code",
   "execution_count": null,
   "id": "cb3d15e2",
   "metadata": {},
   "outputs": [],
   "source": [
    "scripts_to_develop = [*script_list, (\"requeriments_python.txt\", \"Clinical Data Scientist\"), (\"requeriments_r.txt\", \"Epidemiologist & Biostatistician\") , (\"README.md\", \"Clinical Data Scientist\"), (\"config.yaml\", \"Clinical Data Scientist\")]\n",
    "for script in scripts_to_develop:\n",
    "    print(script)"
   ]
  },
  {
   "cell_type": "markdown",
   "id": "beba5aec",
   "metadata": {},
   "source": [
    "## Discussion 5: Code development"
   ]
  },
  {
   "cell_type": "code",
   "execution_count": null,
   "id": "7a3455ec",
   "metadata": {},
   "outputs": [],
   "source": [
    "prompt_discussion_5 = Code_development(\n",
    "    title = \"Code development -5\",\n",
    "    moderator = epidemiologist,\n",
    "    type = \"working session \",\n",
    "    goal = \"provide a clear, script-based analysis pipeline, starting from raw EHR data and ending with ready-to-run scripts that compute the results of your study. Please assume that the database tables have been exported as CSV files, with each file named after its corresponding table, avoiding a direct connection to the database. You should save the data and results in directories \",\n",
    "    deliverable= scripts_to_develop,\n",
    "    contributors = developers,\n",
    "    materials = (\"electronic health records from 500,000 adults aged over 75 in Madrid. This database originates from a retrospective longitudinal study, covering medical variables recorded during the periods 2015–2019 and 2020–2022.\\nCSV files have been generated for each table from the database. Please consider using these files instead of connecting directly to the MySQL database\", aged_madrid_dictdb),\n",
    "    agenda = global_project_agenda + methodology_intro + \"\\nBased on the resolution of questions, the described methodology, and the list of scripts to be generated, the objective is to produce the scripts that will process the raw database data and generate results in tables and figures necessary to draw conclusions.\" + f\"This is the script-list (pipeline) to develop in this session: {scripts_to_develop}\" + f\"\\nThese are the doubts solved by the research team in the last meeting:{solved_questions}\\n\",\n",
    "    participants_request= \", please proceed to generate the script: \",\n",
    "    final_request= \" return a summary of the working session, including important details to consider it in manusctipt drafting. \",\n",
    "    request  = \"convene the collaborative working session.\",\n",
    "    participants_request_instructions=\". Please, return just the code to execute in text format.\"\n",
    ")\n",
    "print(prompt_discussion_5.prompt)"
   ]
  },
  {
   "cell_type": "code",
   "execution_count": null,
   "id": "b4b79fca",
   "metadata": {},
   "outputs": [],
   "source": [
    "summary_ws, scripts, thread5 = run_code_development(client, prompt_discussion_5, epidemiologist, participants_d4a)"
   ]
  },
  {
   "cell_type": "markdown",
   "id": "a4126218",
   "metadata": {},
   "source": [
    "### Recover scripts files"
   ]
  },
  {
   "cell_type": "code",
   "execution_count": null,
   "id": "175377d4",
   "metadata": {},
   "outputs": [],
   "source": [
    "print(scripts)"
   ]
  },
  {
   "cell_type": "code",
   "execution_count": null,
   "id": "33ae26dc",
   "metadata": {},
   "outputs": [],
   "source": [
    "import os\n",
    "scripts_names = [x for (x, y) in scripts_to_develop]\n",
    "scripts_dict = dict()\n",
    "print(scripts_names)\n",
    "print(len(scripts_names))\n",
    "for name, content, ts in scripts:\n",
    "    scripts_dict[name] = content\n",
    "path = r\"c:\\Users\\Lucia Carrasco\\OneDrive - FUNDACION IMDEA-ALIMENTACION\\Escritorio\\LUCIA\\AGED_MADRID\\AGENTS4SCIENCE\\ChatGPT-api\\scripts\".replace(\"\\\\\",\"/\")\n",
    "os.makedirs(path, exist_ok=True)\n",
    "for key, value in scripts_dict.items():\n",
    "    filename = os.path.join(path,key)\n",
    "    with open(filename, \"w+\") as script:\n",
    "        script.write(value)\n",
    "print(scripts_dict)"
   ]
  },
  {
   "cell_type": "markdown",
   "id": "03d33ccb",
   "metadata": {},
   "source": [
    "#### Compile the results"
   ]
  },
  {
   "cell_type": "code",
   "execution_count": null,
   "id": "dfe09dcb",
   "metadata": {},
   "outputs": [],
   "source": [
    "results = '''\n",
    "# Comprehensive Analysis Report\n",
    "\n",
    "## Cox Proportional Hazards Model Summary\n",
    "Call:\n",
    "coxph(formula = final_formula, data = data)\n",
    "\n",
    "  n= 530229, number of events= 530229 \n",
    "\n",
    "                                  coef exp(coef)  se(coef)       z Pr(>|z|)    \n",
    "glucemia_cv_20_22            -0.035001  0.965605  0.001989 -17.598  < 2e-16 ***\n",
    "HBa1C_cv_20_22                0.046767  1.047877  0.001552  30.130  < 2e-16 ***\n",
    "MAGE_20_22                          NA        NA  0.000000      NA       NA    \n",
    "GV_Insulin_Interaction_20_22  0.014421  1.014526  0.003549   4.064 4.83e-05 ***\n",
    "sexoM                        -0.213778  0.807527  0.002855 -74.875  < 2e-16 ***\n",
    "pre_dm1                       0.104886  1.110584  0.003100  33.839  < 2e-16 ***\n",
    "dm2_dxTRUE                          NA        NA  0.000000      NA       NA    \n",
    "hta_dxTRUE                          NA        NA  0.000000      NA       NA    \n",
    "insulina_2022                -0.093223  0.910990  0.006725 -13.861  < 2e-16 ***\n",
    "---\n",
    "Signif. codes:  0 '***' 0.001 '**' 0.01 '*' 0.05 '.' 0.1 ' ' 1\n",
    "\n",
    "                             exp(coef) exp(-coef) lower .95 upper .95\n",
    "glucemia_cv_20_22               0.9656     1.0356    0.9618    0.9694\n",
    "HBa1C_cv_20_22                  1.0479     0.9543    1.0447    1.0511\n",
    "MAGE_20_22                          NA         NA        NA        NA\n",
    "GV_Insulin_Interaction_20_22    1.0145     0.9857    1.0075    1.0216\n",
    "sexoM                           0.8075     1.2383    0.8030    0.8121\n",
    "pre_dm1                         1.1106     0.9004    1.1039    1.1174\n",
    "dm2_dxTRUE                          NA         NA        NA        NA\n",
    "hta_dxTRUE                          NA         NA        NA        NA\n",
    "insulina_2022                   0.9110     1.0977    0.8991    0.9231\n",
    "\n",
    "Concordance= 0.535  (se = 0 )\n",
    "Likelihood ratio test= 8231  on 6 df,   p=<2e-16\n",
    "Wald test            = 8422  on 6 df,   p=<2e-16\n",
    "Score (logrank) test = 8447  on 6 df,   p=<2e-16\n",
    "\n",
    "\n",
    "\n",
    "## Proportional Hazards Assumption Test\n",
    "                              test_statistic             p    -log2(p)\n",
    "GV_Insulin_Interaction_20_22      321.232296  7.806961e-72  236.214062\n",
    "HBa1C_cv_20_22                     13.755688  2.081894e-04   12.229816\n",
    "glucemia_cv_20_22                  16.604673  4.603744e-05   14.406833\n",
    "insulina_2022                    4067.500096  0.000000e+00         inf\n",
    "pre_dm_1                           77.515715  1.316706e-18   59.397772\n",
    "sexo_1                            147.903361  4.980305e-34  110.629321\n",
    "\n",
    "## Sensitivity Analysis\n",
    "        covariate      coef  exp(coef)  se(coef)  coef lower 95%  coef upper 95%  exp(coef) lower 95%  exp(coef) upper 95%  cmp to          z             p   -log2(p)\n",
    "glucemia_cv_20_22 -0.013516   0.986574  0.000849       -0.015180       -0.011853             0.984935             0.988217     0.0 -15.924472  4.286152e-57 187.250219\n",
    "   HBa1C_cv_20_22  0.027098   1.027469  0.000888        0.025359        0.028838             1.025683             1.029258     0.0  30.531076 1.008497e-204 677.661124\n",
    "    insulina_2022 -0.037867   0.962841  0.003053       -0.043851       -0.031884             0.957097             0.968619     0.0 -12.403793  2.492400e-35 114.949948\n",
    "           sexo_1 -0.143533   0.866292  0.001873       -0.147204       -0.139862             0.863118             0.869478     0.0 -76.627530  0.000000e+00        inf\n",
    "         pre_dm_1  0.068884   1.071312  0.001869        0.065220        0.072548             1.067393             1.075244     0.0  36.846332 3.348093e-297 984.869304\n",
    "\n",
    "## ARIMA Model Summary\n",
    "                               SARIMAX Results                                \n",
    "==============================================================================\n",
    "Dep. Variable:                      y   No. Observations:               530229\n",
    "Model:                 ARIMA(1, 1, 1)   Log Likelihood             -751267.582\n",
    "Date:                Sat, 13 Sep 2025   AIC                        1502541.164\n",
    "Time:                        15:02:33   BIC                        1502574.707\n",
    "Sample:                             0   HQIC                       1502550.636\n",
    "                             - 530229                                         \n",
    "Covariance Type:                  opg                                         \n",
    "==============================================================================\n",
    "                 coef    std err          z      P>|z|      [0.025      0.975]\n",
    "------------------------------------------------------------------------------\n",
    "ar.L1          0.0011      0.001      0.769      0.442      -0.002       0.004\n",
    "ma.L1         -0.9933      0.000  -6256.080      0.000      -0.994      -0.993\n",
    "sigma2         0.9959      0.002    505.321      0.000       0.992       1.000\n",
    "===================================================================================\n",
    "Ljung-Box (L1) (Q):                   0.00   Jarque-Bera (JB):             52435.77\n",
    "Prob(Q):                              1.00   Prob(JB):                         0.00\n",
    "Heteroskedasticity (H):               0.96   Skew:                             0.77\n",
    "Prob(H) (two-sided):                  0.00   Kurtosis:                         2.93\n",
    "===================================================================================\n",
    "\n",
    "Warnings:\n",
    "[1] Covariance matrix calculated using the outer product of gradients (complex-step).\n",
    "\n",
    "## Collaboration and Clinical Insights\n",
    "- Continuous collaboration with clinical experts ensured the clinical relevance of our findings.\n",
    "- Feedback loops with geriatricians and pharmacologists helped interpret results in the context of elderly care.\n",
    "- The integration of clinical insights was crucial for aligning analytical approaches with clinical priorities.\n",
    "\n",
    "## Future Directions\n",
    "- Further exploration of non-linear relationships and interaction terms.\n",
    "- Consideration of additional temporal analysis techniques.\n",
    "- Ongoing collaboration with clinical teams to refine and validate findings.\n",
    "\n",
    "\n",
    "'''"
   ]
  },
  {
   "cell_type": "markdown",
   "id": "8a3783cc",
   "metadata": {},
   "source": [
    "## Discussion 6: Paper drafting"
   ]
  },
  {
   "cell_type": "markdown",
   "id": "fc6c96ae",
   "metadata": {},
   "source": [
    "#### 6a. Gather insights from the research team"
   ]
  },
  {
   "cell_type": "code",
   "execution_count": null,
   "id": "d8d6ae01",
   "metadata": {},
   "outputs": [],
   "source": [
    "participants_d6 = {key.title: agent_to_assistant[key.title] for key in [*research_team, coordinator]}"
   ]
  },
  {
   "cell_type": "code",
   "execution_count": null,
   "id": "6f4cc0ba",
   "metadata": {},
   "outputs": [],
   "source": [
    "prompt_discussion_6a = Discussion(\n",
    "    title = \"research team’s perspective on the results\",\n",
    "    moderator = coordinator,\n",
    "    type = \"writting draft session\",\n",
    "    goal = \" gather group members' insights to support the drafting of a well-structured scientific article\",\n",
    "    contributors = research_team, #aquí (y en individual meetings en general, quizas es más interesante meter directamente el prompt del agente) #recuerda que en este primer prompt se describe al equipo también para asignar las tareas del workflow\n",
    "    scheme= (1, participants_d6),\n",
    "    materials = (\"electronic health records from 500,000 adults aged over 75 in Madrid. This database originates from a retrospective longitudinal study, covering medical variables recorded during the periods 2015–2019 and 2020–2022.\", aged_madrid_dictdb), #quizas aquí ya solo dar logs. results y images_names\n",
    "    agenda = global_project_agenda + \"This is the final workflow followed to address the project objective:\\n\" + final_workflow + \"This is the methodology used to address the main objective\\n\" + methodology + \"\\nThese are the results obtained:\\n\"  + results,\n",
    "    deliverable= \"summary of research_team insights\",\n",
    "    participants_request = \"thoughts, comments of relevants details to include in the manuscript or conclussions about the results\",\n",
    "    request  = \" please convene the meeting and formulate three distinct questions for each individual group member, aimed at clarifying uncertainties, eliciting insights, and extract conclussions from the results\")"
   ]
  },
  {
   "cell_type": "code",
   "execution_count": null,
   "id": "008b5299",
   "metadata": {},
   "outputs": [],
   "source": [
    "print(prompt_discussion_6a.prompt)"
   ]
  },
  {
   "cell_type": "code",
   "execution_count": null,
   "id": "c2902e4c",
   "metadata": {},
   "outputs": [],
   "source": [
    "comments, log6, thread6 = run_discussion(client, prompt_discussion_6a, coordinator, participants_d6)"
   ]
  },
  {
   "cell_type": "code",
   "execution_count": null,
   "id": "ec4dacbb",
   "metadata": {},
   "outputs": [],
   "source": [
    "paper_sections_instructions = {\n",
    "    \"Introduction\": '''Consider the prior viewpoints of the discussion group members, where relevant to this section. In the introduction, please include: (a) The general context and relevance of the research; (b) The state of the art; (c) The knowledge gap addressed by the study and (d) The specific objective of the study.''',\n",
    "    \"Materials and methods\": '''(a) Any datasets, tools, or software used to support the experiment, including preprocessing or formatting steps if applicable; (b) Measures to ensure reproducibility, reliability, and transparency of the experiment, including reference to a GitHub repository for accessing code and data; (c) Additional methodological details or insights that help the reader fully understand the experimental setup, including potential limitations''',\n",
    "    \"Results\": '''(a) Present the key results in clear and organized tables. (b) Comments interpreting the analysis of the results observed in the table, highlighting important aspects and potential implications. (c)If relevant, include descriptions of any images, graphs, or charts that can help visualize the results. The graphs should clearly illustrate the findings, such as the relationship between variable''',\n",
    "    \"Discussion\": '''(a) Interpretation of the main findings; (b) Implications of these findings for the objective and the hypothesis of the research.''',\n",
    "    \"Conclussions\":'''(a) A concise summary of the main findings from the experiment. (b) Discussion of the strengths and limitations of research; (c) Suggestions for future research or potential ways to address observed limitations; (d) Optional: insights into how the experiment contributes to the knowledge generation.''',\n",
    "    \"Abstract\":'''A concise summary of the main points for each section, limited to two-three lines''',\n",
    "    \"References\":'''(a) Only scientific articles with valid DOIs that are publicly available before April 2024 on PubMed or Google Scholar; (b) Do not generate or include any DOI numbers that do not correspond to actual, verifiable publications. All DOIs must be real and traceable via PubMed, Google Scholar, or similar trusted academic databases; (c) All statements in introduction and materials and methods sections should be referenced. Software, tools, packages or models also should be referenced; (d) Every reference in references section must be cited at least once in the text of the article (in-line citations should match the references listed). (e) Do not include any reference in the text that is not listed in the References section, and do not list any reference in the References section that is not cited in the text; (f) Ensure that all references follow a consistent, standard academic citation style (e.g., Vancouver or APA, at your discretion); (g) Include references for all sections of the article (Introduction, Materials & Methods, Results, Discussion, Conclusions), ensuring that each citation is appropriately linked to the context in which it is used. The total number of references for the manuscript should exceed 20'''\n",
    "}"
   ]
  },
  {
   "cell_type": "code",
   "execution_count": null,
   "id": "feb94477",
   "metadata": {},
   "outputs": [],
   "source": [
    "writting_advice = '''\n",
    "Here are some tips for writing your paper:\n",
    "(a) Do not itemize or use bullet points; write in well-connected, coherent paragraphs.\n",
    "(b) Avoid mentioning specific column names or variable names from the database. Instead, refer to the concept or measurement the variable represents.\n",
    "(c) Focus on explaining the idea, rationale, or finding rather than referencing the raw data structure.\n",
    "(d) Make transitions smooth between sentences and paragraphs, ensuring logical flow.\n",
    "(e) Provide clear interpretation, reasoning, and context, suitable for a scientific audience, without exposing technical table or dataset identifiers.\n",
    "(f) Keep language formal, precise, and informative, as for a methods, results, or discussion section of a paper.\n",
    "(g) The extension of the complete manuscript should be 8 pages. So please, Write each section in detailed paragraphs, using at least 3-5 paragraphs per section. Each paragraph should be fully developed with clear explanations and logical flow\n",
    "'''"
   ]
  },
  {
   "cell_type": "markdown",
   "id": "6c4ca04a",
   "metadata": {},
   "source": [
    "#### 6b. Writting a manuscript"
   ]
  },
  {
   "cell_type": "code",
   "execution_count": null,
   "id": "84bc9968",
   "metadata": {},
   "outputs": [],
   "source": [
    "prompt_discussion_6b = Discussion(\n",
    "    title = \"Writting manuscript\",\n",
    "    moderator = coordinator,\n",
    "    type = \"writting draft part of the session\",\n",
    "    goal = \"write clear and well-organized scientific article that explains how the project was carried out, along with the results and conclusions obtained\",\n",
    "    contributors = coordinator,\n",
    "    agenda = f\"These are the instructions to write each section of the paper: {paper_sections_instructions}\\n{writting_advice}\",\n",
    "    deliverable= \"\",\n",
    "    request  = \"begin giving a summary of research team insights before start with the writting sections rounds. Consider the prior viewpoints of the discussion group members, where relevant to each section\")"
   ]
  },
  {
   "cell_type": "code",
   "execution_count": null,
   "id": "d6ffc054",
   "metadata": {},
   "outputs": [],
   "source": [
    "print(prompt_discussion_6b.prompt)"
   ]
  },
  {
   "cell_type": "code",
   "execution_count": null,
   "id": "25aa2562",
   "metadata": {},
   "outputs": [],
   "source": [
    "paper_drafting_log = run_paper_drafting(client, prompt_discussion_6b, coordinator, paper_sections_instructions, participants=participants_d6, thread_id=thread6)"
   ]
  },
  {
   "cell_type": "code",
   "execution_count": null,
   "id": "94f23db3",
   "metadata": {},
   "outputs": [],
   "source": [
    "manuscript = \"\"\n",
    "for section, content, _ in paper_drafting_log:\n",
    "    if section == \"Primary Healthcare Professional & Coordinator\":\n",
    "        continue\n",
    "    manuscript+= section[1:] +\"\\n\"+content+\"\\n\\n\"\n",
    "print(manuscript)"
   ]
  },
  {
   "cell_type": "markdown",
   "id": "8980fbab",
   "metadata": {},
   "source": [
    "## Discussion 7: Peer review process"
   ]
  },
  {
   "cell_type": "code",
   "execution_count": null,
   "id": "592459a3",
   "metadata": {},
   "outputs": [],
   "source": [
    "guideliness_NeuroIPS = '''\n",
    "You are acting as a reviewer for NeurIPS 2025. Follow these principles:\n",
    "Review Requirements\n",
    "(a)Each review must be thoughtful, specific, constructive, fair, and timely. Avoid vague statements or superficial critiques.\n",
    "(b)Structure of Review\n",
    "    1. Summary – Concisely explain the paper’s contributions in your own words (not the abstract).\n",
    "    2. Strengths & Weaknesses – Evaluate along four dimensions:\n",
    "    3. Quality: Technical soundness, validity of claims, completeness.\n",
    "    4. Clarity: Writing, organization, reproducibility.\n",
    "    5. Significance: Impact, usefulness, advancement of knowledge.\n",
    "    6. Originality: Novelty of insights, methods, or combinations.\n",
    "    7. Questions for Authors – Provide 3–5 constructive, actionable questions or clarifications.\n",
    "    8. Limitations – Check if limitations and potential societal impacts are addressed. Reward transparency.\n",
    "    9. Ratings (1–4 for each dimension; 1–6 overall). Clearly justify scores.\n",
    "    10. Confidence (1–5). Indicate certainty in your evaluation.\n",
    "    11. Ethical Concerns – Flag for ethics review if relevant.\n",
    "(d)Best Practices\n",
    "- Be open-minded during rebuttal and discussions. Revise your review if authors address concerns.\n",
    "- Be fair and respectful; avoid biased or discouraging language.\n",
    "- Focus on substance (technical quality, clarity, impact, novelty) rather than minor formatting or grammar.\n",
    "- Report plagiarism, dual submissions, or unethical behavior to your AC.\n",
    "- Do not use ideas, code, or results until they are public.\n",
    "- Run any submitted code only in a safe, isolated environment.\n",
    "\n",
    "'''"
   ]
  },
  {
   "cell_type": "code",
   "execution_count": null,
   "id": "51897f34",
   "metadata": {},
   "outputs": [],
   "source": [
    "latex_template = \"\""
   ]
  },
  {
   "cell_type": "code",
   "execution_count": null,
   "id": "48daadc7",
   "metadata": {},
   "outputs": [],
   "source": [
    "participants_d7 = {key.title: agent_to_assistant[key.title] for key in [*reviewers, coordinator]}\n",
    "prompt_discussion_7 = Discussion(\n",
    "    title = \"Peer review process \",\n",
    "    moderator = coordinator,\n",
    "    type = \"peer review process\",\n",
    "    goal = \"gather in-depth feedback from Reviewer 1 and Reviewer 2 to refine and strengthen the manuscript before its final submission to the conference\",\n",
    "    scheme = (2, participants_d7),\n",
    "    deliverable = \"final manuscript embeed in latex code template, ready to the conference submission\",\n",
    "    contributors = reviewers, \n",
    "    materials = \"\",\n",
    "    agenda = f\"This is the manuscript:\\n{manuscript}\\nThis is the latex template including the format that submissions should follow:\\n {latex_template}.\\n This is the guide to reviewers:\\n {guideliness_NeuroIPS}\",\n",
    "    request  = f\" please embeed the manuscript in latex template to start the revision process.\",\n",
    "    participants_request = \"provide your observations on the manuscript, focusing on two main aspects: 1) ensuring the manuscript follows the conference LaTeX template, and 2) evaluating the quality, clarity, significance, and originality of the content, in line with the NeurIPS 2025 review guidelines. Your expertise will be invaluable for assessing both the formatting and the scientific contribution of the manuscript\",\n",
    "    final_request = \"provide the final manuscript embeed in latex code template, ready to the conference submission.\"\n",
    "    )"
   ]
  },
  {
   "cell_type": "code",
   "execution_count": null,
   "id": "75bf9468",
   "metadata": {},
   "outputs": [],
   "source": [
    "print(prompt_discussion_7.prompt)"
   ]
  },
  {
   "cell_type": "code",
   "execution_count": null,
   "id": "3063b9f3",
   "metadata": {},
   "outputs": [],
   "source": [
    "article, log7, thread = run_discussion(client, prompt_discussion_7, coordinator, participants_d7)"
   ]
  }
 ],
 "metadata": {
  "kernelspec": {
   "display_name": "base",
   "language": "python",
   "name": "python3"
  },
  "language_info": {
   "codemirror_mode": {
    "name": "ipython",
    "version": 3
   },
   "file_extension": ".py",
   "mimetype": "text/x-python",
   "name": "python",
   "nbconvert_exporter": "python",
   "pygments_lexer": "ipython3",
   "version": "3.13.2"
  }
 },
 "nbformat": 4,
 "nbformat_minor": 5
}
